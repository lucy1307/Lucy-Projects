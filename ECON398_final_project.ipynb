{
 "cells": [
  {
   "cell_type": "markdown",
   "id": "e8eafdce-b211-4f85-8b4d-d1422535a7f7",
   "metadata": {},
   "source": [
    "# ECON 398 Final Project\n",
    "## Lucy Zhu     40752438"
   ]
  },
  {
   "cell_type": "code",
   "execution_count": 1,
   "id": "b8d836ef-1b8d-4305-984e-ada06b741a70",
   "metadata": {},
   "outputs": [
    {
     "name": "stderr",
     "output_type": "stream",
     "text": [
      "Registered S3 methods overwritten by 'ggplot2':\n",
      "  method         from \n",
      "  [.quosures     rlang\n",
      "  c.quosures     rlang\n",
      "  print.quosures rlang\n",
      "\n",
      "Registered S3 method overwritten by 'rvest':\n",
      "  method            from\n",
      "  read_xml.response xml2\n",
      "\n",
      "-- \u001b[1mAttaching packages\u001b[22m --------------------------------------- tidyverse 1.2.1 --\n",
      "\n",
      "\u001b[32mv\u001b[39m \u001b[34mggplot2\u001b[39m 3.1.1       \u001b[32mv\u001b[39m \u001b[34mpurrr  \u001b[39m 0.3.2  \n",
      "\u001b[32mv\u001b[39m \u001b[34mtibble \u001b[39m 2.1.1       \u001b[32mv\u001b[39m \u001b[34mdplyr  \u001b[39m 0.8.0.\u001b[31m1\u001b[39m\n",
      "\u001b[32mv\u001b[39m \u001b[34mtidyr  \u001b[39m 0.8.3       \u001b[32mv\u001b[39m \u001b[34mstringr\u001b[39m 1.4.0  \n",
      "\u001b[32mv\u001b[39m \u001b[34mreadr  \u001b[39m 1.3.1       \u001b[32mv\u001b[39m \u001b[34mforcats\u001b[39m 0.4.0  \n",
      "\n",
      "-- \u001b[1mConflicts\u001b[22m ------------------------------------------ tidyverse_conflicts() --\n",
      "\u001b[31mx\u001b[39m \u001b[34mdplyr\u001b[39m::\u001b[32mfilter()\u001b[39m masks \u001b[34mstats\u001b[39m::filter()\n",
      "\u001b[31mx\u001b[39m \u001b[34mdplyr\u001b[39m::\u001b[32mlag()\u001b[39m    masks \u001b[34mstats\u001b[39m::lag()\n",
      "\n",
      "\n",
      "Please cite as: \n",
      "\n",
      "\n",
      " Hlavac, Marek (2022). stargazer: Well-Formatted Regression and Summary Statistics Tables.\n",
      "\n",
      " R package version 5.2.3. https://CRAN.R-project.org/package=stargazer \n",
      "\n",
      "\n"
     ]
    }
   ],
   "source": [
    "library(haven)\n",
    "library(tidyverse)\n",
    "library(stargazer)"
   ]
  },
  {
   "cell_type": "markdown",
   "id": "5397e43f-f3d1-4dfe-8269-57398f6c7990",
   "metadata": {},
   "source": [
    "## Data Loading"
   ]
  },
  {
   "cell_type": "code",
   "execution_count": 2,
   "id": "76018c47-2f6f-4daa-b088-115dd07b13cc",
   "metadata": {},
   "outputs": [
    {
     "data": {
      "text/html": [
       "<table>\n",
       "<thead><tr><th scope=col>ppsort</th><th scope=col>aboid</th><th scope=col>agegrp</th><th scope=col>ageimm</th><th scope=col>attsch</th><th scope=col>bfnmemb</th><th scope=col>bedrm</th><th scope=col>cfinc</th><th scope=col>cfinc_at</th><th scope=col>cfstat</th><th scope=col>...</th><th scope=col>wt7</th><th scope=col>wt8</th><th scope=col>wt9</th><th scope=col>wt10</th><th scope=col>wt11</th><th scope=col>wt12</th><th scope=col>wt13</th><th scope=col>wt14</th><th scope=col>wt15</th><th scope=col>wt16</th></tr></thead>\n",
       "<tbody>\n",
       "\t<tr><td>1        </td><td>6        </td><td>13       </td><td> 7       </td><td>1        </td><td>0        </td><td>4        </td><td>30       </td><td>27       </td><td>2        </td><td>...      </td><td>22.90113 </td><td>22.90113 </td><td>22.90113 </td><td>249.27876</td><td>22.90113 </td><td>22.90113 </td><td>22.90113 </td><td> 22.90113</td><td>22.90113 </td><td>22.90113 </td></tr>\n",
       "\t<tr><td>2        </td><td>6        </td><td>11       </td><td> 5       </td><td>1        </td><td>0        </td><td>3        </td><td>18       </td><td>18       </td><td>2        </td><td>...      </td><td>22.89379 </td><td>22.89379 </td><td>22.89379 </td><td> 22.89379</td><td>22.89379 </td><td>22.89379 </td><td>22.89379 </td><td> 22.89379</td><td>22.89379 </td><td>22.89379 </td></tr>\n",
       "\t<tr><td>3        </td><td>1        </td><td>13       </td><td>99       </td><td>1        </td><td>0        </td><td>0        </td><td> 7       </td><td> 7       </td><td>6        </td><td>...      </td><td>22.90134 </td><td>22.90134 </td><td>22.90134 </td><td> 22.90134</td><td>22.90134 </td><td>22.90134 </td><td>22.90134 </td><td> 22.90134</td><td>22.90134 </td><td>22.90134 </td></tr>\n",
       "\t<tr><td>4        </td><td>6        </td><td>16       </td><td>99       </td><td>1        </td><td>0        </td><td>4        </td><td>15       </td><td>15       </td><td>2        </td><td>...      </td><td>22.87713 </td><td>22.87713 </td><td>22.87713 </td><td> 22.87713</td><td>22.87713 </td><td>22.87713 </td><td>22.87713 </td><td> 22.87713</td><td>22.87713 </td><td>22.87713 </td></tr>\n",
       "\t<tr><td>5        </td><td>6        </td><td>18       </td><td>99       </td><td>1        </td><td>0        </td><td>3        </td><td>13       </td><td>13       </td><td>3        </td><td>...      </td><td>22.90134 </td><td>22.90134 </td><td>22.90134 </td><td> 22.90134</td><td>22.90134 </td><td>22.90134 </td><td>22.90134 </td><td> 22.90134</td><td>22.90134 </td><td>22.90134 </td></tr>\n",
       "\t<tr><td>6        </td><td>2        </td><td>16       </td><td>99       </td><td>1        </td><td>0        </td><td>4        </td><td> 1       </td><td> 1       </td><td>7        </td><td>...      </td><td>22.89284 </td><td>22.89284 </td><td>22.89284 </td><td> 22.89284</td><td>22.89284 </td><td>22.89284 </td><td>22.89284 </td><td>249.18847</td><td>22.89284 </td><td>22.89284 </td></tr>\n",
       "</tbody>\n",
       "</table>\n"
      ],
      "text/latex": [
       "\\begin{tabular}{r|llllllllllllllllllllllllllllllllllllllllllllllllllllllllllllllllllllllllllllllllllllllllllllllllllllllllllllllllllllllllllllllllllllllllllllllll}\n",
       " ppsort & aboid & agegrp & ageimm & attsch & bfnmemb & bedrm & cfinc & cfinc\\_at & cfstat & ... & wt7 & wt8 & wt9 & wt10 & wt11 & wt12 & wt13 & wt14 & wt15 & wt16\\\\\n",
       "\\hline\n",
       "\t 1         & 6         & 13        &  7        & 1         & 0         & 4         & 30        & 27        & 2         & ...       & 22.90113  & 22.90113  & 22.90113  & 249.27876 & 22.90113  & 22.90113  & 22.90113  &  22.90113 & 22.90113  & 22.90113 \\\\\n",
       "\t 2         & 6         & 11        &  5        & 1         & 0         & 3         & 18        & 18        & 2         & ...       & 22.89379  & 22.89379  & 22.89379  &  22.89379 & 22.89379  & 22.89379  & 22.89379  &  22.89379 & 22.89379  & 22.89379 \\\\\n",
       "\t 3         & 1         & 13        & 99        & 1         & 0         & 0         &  7        &  7        & 6         & ...       & 22.90134  & 22.90134  & 22.90134  &  22.90134 & 22.90134  & 22.90134  & 22.90134  &  22.90134 & 22.90134  & 22.90134 \\\\\n",
       "\t 4         & 6         & 16        & 99        & 1         & 0         & 4         & 15        & 15        & 2         & ...       & 22.87713  & 22.87713  & 22.87713  &  22.87713 & 22.87713  & 22.87713  & 22.87713  &  22.87713 & 22.87713  & 22.87713 \\\\\n",
       "\t 5         & 6         & 18        & 99        & 1         & 0         & 3         & 13        & 13        & 3         & ...       & 22.90134  & 22.90134  & 22.90134  &  22.90134 & 22.90134  & 22.90134  & 22.90134  &  22.90134 & 22.90134  & 22.90134 \\\\\n",
       "\t 6         & 2         & 16        & 99        & 1         & 0         & 4         &  1        &  1        & 7         & ...       & 22.89284  & 22.89284  & 22.89284  &  22.89284 & 22.89284  & 22.89284  & 22.89284  & 249.18847 & 22.89284  & 22.89284 \\\\\n",
       "\\end{tabular}\n"
      ],
      "text/markdown": [
       "\n",
       "| ppsort | aboid | agegrp | ageimm | attsch | bfnmemb | bedrm | cfinc | cfinc_at | cfstat | ... | wt7 | wt8 | wt9 | wt10 | wt11 | wt12 | wt13 | wt14 | wt15 | wt16 |\n",
       "|---|---|---|---|---|---|---|---|---|---|---|---|---|---|---|---|---|---|---|---|---|\n",
       "| 1         | 6         | 13        |  7        | 1         | 0         | 4         | 30        | 27        | 2         | ...       | 22.90113  | 22.90113  | 22.90113  | 249.27876 | 22.90113  | 22.90113  | 22.90113  |  22.90113 | 22.90113  | 22.90113  |\n",
       "| 2         | 6         | 11        |  5        | 1         | 0         | 3         | 18        | 18        | 2         | ...       | 22.89379  | 22.89379  | 22.89379  |  22.89379 | 22.89379  | 22.89379  | 22.89379  |  22.89379 | 22.89379  | 22.89379  |\n",
       "| 3         | 1         | 13        | 99        | 1         | 0         | 0         |  7        |  7        | 6         | ...       | 22.90134  | 22.90134  | 22.90134  |  22.90134 | 22.90134  | 22.90134  | 22.90134  |  22.90134 | 22.90134  | 22.90134  |\n",
       "| 4         | 6         | 16        | 99        | 1         | 0         | 4         | 15        | 15        | 2         | ...       | 22.87713  | 22.87713  | 22.87713  |  22.87713 | 22.87713  | 22.87713  | 22.87713  |  22.87713 | 22.87713  | 22.87713  |\n",
       "| 5         | 6         | 18        | 99        | 1         | 0         | 3         | 13        | 13        | 3         | ...       | 22.90134  | 22.90134  | 22.90134  |  22.90134 | 22.90134  | 22.90134  | 22.90134  |  22.90134 | 22.90134  | 22.90134  |\n",
       "| 6         | 2         | 16        | 99        | 1         | 0         | 4         |  1        |  1        | 7         | ...       | 22.89284  | 22.89284  | 22.89284  |  22.89284 | 22.89284  | 22.89284  | 22.89284  | 249.18847 | 22.89284  | 22.89284  |\n",
       "\n"
      ],
      "text/plain": [
       "  ppsort aboid agegrp ageimm attsch bfnmemb bedrm cfinc cfinc_at cfstat ...\n",
       "1 1      6     13      7     1      0       4     30    27       2      ...\n",
       "2 2      6     11      5     1      0       3     18    18       2      ...\n",
       "3 3      1     13     99     1      0       0      7     7       6      ...\n",
       "4 4      6     16     99     1      0       4     15    15       2      ...\n",
       "5 5      6     18     99     1      0       3     13    13       3      ...\n",
       "6 6      2     16     99     1      0       4      1     1       7      ...\n",
       "  wt7      wt8      wt9      wt10      wt11     wt12     wt13     wt14     \n",
       "1 22.90113 22.90113 22.90113 249.27876 22.90113 22.90113 22.90113  22.90113\n",
       "2 22.89379 22.89379 22.89379  22.89379 22.89379 22.89379 22.89379  22.89379\n",
       "3 22.90134 22.90134 22.90134  22.90134 22.90134 22.90134 22.90134  22.90134\n",
       "4 22.87713 22.87713 22.87713  22.87713 22.87713 22.87713 22.87713  22.87713\n",
       "5 22.90134 22.90134 22.90134  22.90134 22.90134 22.90134 22.90134  22.90134\n",
       "6 22.89284 22.89284 22.89284  22.89284 22.89284 22.89284 22.89284 249.18847\n",
       "  wt15     wt16    \n",
       "1 22.90113 22.90113\n",
       "2 22.89379 22.89379\n",
       "3 22.90134 22.90134\n",
       "4 22.87713 22.87713\n",
       "5 22.90134 22.90134\n",
       "6 22.89284 22.89284"
      ]
     },
     "metadata": {},
     "output_type": "display_data"
    }
   ],
   "source": [
    "census_data <- read_dta(\"Census_2021_Individual_pumf.dta\", encoding = \"UTF-8\")\n",
    "head(census_data)"
   ]
  },
  {
   "cell_type": "markdown",
   "id": "db5f471e-7953-4d23-b556-e5d0b9403d39",
   "metadata": {},
   "source": [
    "## Data Wrangling and Cleaning"
   ]
  },
  {
   "cell_type": "markdown",
   "id": "2f59a880-bd17-4f86-8783-0e4f927a0381",
   "metadata": {
    "tags": []
   },
   "source": [
    "### In this part, I will select variables of interest and convert them to the suitable data type"
   ]
  },
  {
   "cell_type": "code",
   "execution_count": 3,
   "id": "b8f26526-e8f0-4f80-bf97-e4c41d94a5ea",
   "metadata": {},
   "outputs": [],
   "source": [
    "# the dependent variable is wage\n",
    "# the independent variable is ageimm (age of immigration)\n",
    "# I also add some control variables, which will be shown in the code:\n",
    "selected_cols <-census_data[, c(\"wages\",\"ageimm\",\"agegrp\",\"gender\",\"pob\",\"vismin\",\"kol\",\"hdgree\",\"locstud\",\n",
    "                                \"pwpr\",\"pkids\")]"
   ]
  },
  {
   "cell_type": "code",
   "execution_count": 4,
   "id": "c1c14ea5-0625-43b8-9d22-70a735016226",
   "metadata": {},
   "outputs": [],
   "source": [
    "data<-as.data.frame(selected_cols)\n",
    "write.csv(data, file = \"data.csv\", row.names = FALSE)"
   ]
  },
  {
   "cell_type": "code",
   "execution_count": 5,
   "id": "c5c9b8c1-c902-4145-9a51-01f90e36b2a9",
   "metadata": {},
   "outputs": [
    {
     "name": "stderr",
     "output_type": "stream",
     "text": [
      "Parsed with column specification:\n",
      "cols(\n",
      "  wages = \u001b[32mcol_double()\u001b[39m,\n",
      "  ageimm = \u001b[32mcol_double()\u001b[39m,\n",
      "  agegrp = \u001b[32mcol_double()\u001b[39m,\n",
      "  gender = \u001b[32mcol_double()\u001b[39m,\n",
      "  pob = \u001b[32mcol_double()\u001b[39m,\n",
      "  vismin = \u001b[32mcol_double()\u001b[39m,\n",
      "  kol = \u001b[32mcol_double()\u001b[39m,\n",
      "  hdgree = \u001b[32mcol_double()\u001b[39m,\n",
      "  locstud = \u001b[32mcol_double()\u001b[39m,\n",
      "  pwpr = \u001b[32mcol_double()\u001b[39m,\n",
      "  pkids = \u001b[32mcol_double()\u001b[39m\n",
      ")\n",
      "\n"
     ]
    },
    {
     "name": "stdout",
     "output_type": "stream",
     "text": [
      "Observations: 980,868\n",
      "Variables: 11\n",
      "$ wages   \u001b[3m\u001b[90m<dbl>\u001b[39m\u001b[23m 7.6e+04, 1.0e+08, 1.0e+08, 1.0e+08, 1.0e+08, 1.0e+08, 1.0e+...\n",
      "$ ageimm  \u001b[3m\u001b[90m<dbl>\u001b[39m\u001b[23m 7, 5, 99, 99, 99, 99, 99, 7, 99, 6, 99, 99, 8, 99, 99, 99, ...\n",
      "$ agegrp  \u001b[3m\u001b[90m<dbl>\u001b[39m\u001b[23m 13, 11, 13, 16, 18, 16, 16, 16, 11, 12, 16, 13, 14, 18, 3, ...\n",
      "$ gender  \u001b[3m\u001b[90m<dbl>\u001b[39m\u001b[23m 2, 1, 1, 2, 2, 1, 1, 1, 2, 2, 2, 1, 2, 2, 1, 1, 1, 1, 2, 1,...\n",
      "$ pob     \u001b[3m\u001b[90m<dbl>\u001b[39m\u001b[23m 88, 28, 1, 1, 1, 1, 1, 11, 1, 12, 1, 1, 6, 1, 1, 1, 1, 21, ...\n",
      "$ vismin  \u001b[3m\u001b[90m<dbl>\u001b[39m\u001b[23m 88, 2, 1, 88, 1, 1, 1, 1, 1, 1, 1, 1, 7, 1, 1, 4, 1, 3, 1, ...\n",
      "$ kol     \u001b[3m\u001b[90m<dbl>\u001b[39m\u001b[23m 1, 1, 2, 1, 2, 1, 1, 1, 1, 1, 3, 1, 2, 2, 1, 3, 3, 1, 3, 1,...\n",
      "$ hdgree  \u001b[3m\u001b[90m<dbl>\u001b[39m\u001b[23m 7, 7, 2, 5, 2, 2, 9, 12, 6, 2, 6, 9, 2, 2, 99, 1, 1, 9, 99,...\n",
      "$ locstud \u001b[3m\u001b[90m<dbl>\u001b[39m\u001b[23m 17, 16, 99, 9, 99, 99, 6, 14, 6, 99, 5, 6, 99, 99, 99, 99, ...\n",
      "$ pwpr    \u001b[3m\u001b[90m<dbl>\u001b[39m\u001b[23m 99, 99, 99, 99, 99, 99, 99, 99, 35, 35, 99, 35, 24, 24, 99,...\n",
      "$ pkids   \u001b[3m\u001b[90m<dbl>\u001b[39m\u001b[23m 8, 1, 9, 1, 1, 9, 0, 0, 1, 1, 0, 1, 1, 0, 1, 1, 1, 1, 1, 1,...\n"
     ]
    }
   ],
   "source": [
    "data <- read_csv(\"data.csv\")\n",
    "glimpse(data)"
   ]
  },
  {
   "cell_type": "markdown",
   "id": "743eaf59-c746-49d3-8864-3b4d1ebcc97c",
   "metadata": {},
   "source": [
    "### Make R understand which of them are categorical variables"
   ]
  },
  {
   "cell_type": "code",
   "execution_count": 6,
   "id": "09fb87a1-833c-4ab5-9909-108d7f3a5ae0",
   "metadata": {},
   "outputs": [
    {
     "name": "stdout",
     "output_type": "stream",
     "text": [
      "Observations: 980,868\n",
      "Variables: 11\n",
      "$ wages   \u001b[3m\u001b[90m<dbl>\u001b[39m\u001b[23m 7.6e+04, 1.0e+08, 1.0e+08, 1.0e+08, 1.0e+08, 1.0e+08, 1.0e+...\n",
      "$ ageimm  \u001b[3m\u001b[90m<fct>\u001b[39m\u001b[23m 7, 5, 99, 99, 99, 99, 99, 7, 99, 6, 99, 99, 8, 99, 99, 99, ...\n",
      "$ agegrp  \u001b[3m\u001b[90m<fct>\u001b[39m\u001b[23m 13, 11, 13, 16, 18, 16, 16, 16, 11, 12, 16, 13, 14, 18, 3, ...\n",
      "$ gender  \u001b[3m\u001b[90m<fct>\u001b[39m\u001b[23m 2, 1, 1, 2, 2, 1, 1, 1, 2, 2, 2, 1, 2, 2, 1, 1, 1, 1, 2, 1,...\n",
      "$ pob     \u001b[3m\u001b[90m<fct>\u001b[39m\u001b[23m 88, 28, 1, 1, 1, 1, 1, 11, 1, 12, 1, 1, 6, 1, 1, 1, 1, 21, ...\n",
      "$ vismin  \u001b[3m\u001b[90m<fct>\u001b[39m\u001b[23m 88, 2, 1, 88, 1, 1, 1, 1, 1, 1, 1, 1, 7, 1, 1, 4, 1, 3, 1, ...\n",
      "$ kol     \u001b[3m\u001b[90m<fct>\u001b[39m\u001b[23m 1, 1, 2, 1, 2, 1, 1, 1, 1, 1, 3, 1, 2, 2, 1, 3, 3, 1, 3, 1,...\n",
      "$ hdgree  \u001b[3m\u001b[90m<fct>\u001b[39m\u001b[23m 7, 7, 2, 5, 2, 2, 9, 12, 6, 2, 6, 9, 2, 2, 99, 1, 1, 9, 99,...\n",
      "$ locstud \u001b[3m\u001b[90m<fct>\u001b[39m\u001b[23m 17, 16, 99, 9, 99, 99, 6, 14, 6, 99, 5, 6, 99, 99, 99, 99, ...\n",
      "$ pwpr    \u001b[3m\u001b[90m<fct>\u001b[39m\u001b[23m 99, 99, 99, 99, 99, 99, 99, 99, 35, 35, 99, 35, 24, 24, 99,...\n",
      "$ pkids   \u001b[3m\u001b[90m<fct>\u001b[39m\u001b[23m 8, 1, 9, 1, 1, 9, 0, 0, 1, 1, 0, 1, 1, 0, 1, 1, 1, 1, 1, 1,...\n"
     ]
    }
   ],
   "source": [
    "data<-data %>% mutate ( ageimm = as.factor(ageimm))\n",
    "data<-data %>% mutate ( agegrp = as.factor(agegrp))\n",
    "data<-data %>% mutate ( pob = as.factor(pob))\n",
    "data<-data %>% mutate ( gender = as.factor(gender))\n",
    "data<-data %>% mutate ( vismin = as.factor(vismin))\n",
    "data<-data %>% mutate ( kol = as.factor(kol))\n",
    "data<-data %>% mutate ( hdgree = as.factor(hdgree))\n",
    "data<-data %>% mutate ( locstud = as.factor(locstud))\n",
    "data<-data %>% mutate ( pwpr = as.factor(pwpr))\n",
    "data<-data %>% mutate ( pkids = as.factor(pkids))\n",
    "glimpse(data)"
   ]
  },
  {
   "cell_type": "markdown",
   "id": "1f701944-decf-499f-9474-6324ccde48ae",
   "metadata": {},
   "source": [
    "### Now we need to refer to the user guide of the 2021 census to drop na observations and keep the ones that relevant to my study"
   ]
  },
  {
   "cell_type": "code",
   "execution_count": 7,
   "id": "6c76067b-9dfa-43ac-88f4-a58911c1e027",
   "metadata": {},
   "outputs": [],
   "source": [
    "#wage\n",
    "# user guide:\"The value 88888888 stands for not available; value 99999999 stands for not applicable\"\n",
    "data <- data %>% filter(wages!=88888888&wages!=99999999)\n",
    "data <- data %>% filter(ageimm!=88&ageimm!=99)\n",
    "#and the controls \n",
    "data <- data %>% filter(vismin!=88)\n",
    "data <- data %>% filter(agegrp!=88)\n",
    "data <- data %>% filter(pkids!=8&pkids!=9)\n",
    "data <- data %>% filter(hdgree!=88&hdgree!=99)\n",
    "data <- data %>% filter(pob!=88)\n",
    "data <- data %>% filter(kol!=8)\n",
    "data <- data %>% filter(locstud!=99)\n",
    "data <- data %>% filter(pwpr!=88&pwpr!=99)"
   ]
  },
  {
   "cell_type": "code",
   "execution_count": 8,
   "id": "ae23a29e-9dec-495b-a10a-e45f2e5d2a32",
   "metadata": {},
   "outputs": [],
   "source": [
    "#because wage is too big in value relative to the other variables, we need to take log of wages to make it easier to interpret\n",
    "data$logwage=log(data$wages)"
   ]
  },
  {
   "cell_type": "markdown",
   "id": "64678722-5215-471b-943b-f29784e4a8e7",
   "metadata": {},
   "source": [
    "### For some controls, we can turn them into dummy varibles so some of them can be used for heterogeneity test later"
   ]
  },
  {
   "cell_type": "code",
   "execution_count": 9,
   "id": "e92f87e4-817d-4122-ba8b-3d962f78bf35",
   "metadata": {},
   "outputs": [],
   "source": [
    "#make gender and vismin a dummy variable\n",
    "#user guide:\"white=1\", here the dummy is 1 if visible minority, 0 if otherwise\n",
    "data$vm_dum <- ifelse(data$vismin %in% c(1), 0, 1)\n",
    "data<-data %>% mutate(vm_dum=as.factor(vm_dum))\n",
    "#user guide:\"woman=1,man=2\", here the dummy is 1 if woman, 0 if man\n",
    "data$gen_dum <- ifelse(data$gender %in% c(1), 1, 0)\n",
    "data<-data %>% mutate(gen_dum=as.factor(gen_dum))\n",
    "#pkids is already a dummy in the dataset:0->no kids; 1->one or more kids\n",
    "data<-data %>% rename(kid_dum=pkids)"
   ]
  },
  {
   "cell_type": "code",
   "execution_count": 10,
   "id": "f558949b-e94f-465e-9fe5-6e8a2b61b0c5",
   "metadata": {},
   "outputs": [
    {
     "name": "stdout",
     "output_type": "stream",
     "text": [
      "Observations: 52,984\n",
      "Variables: 14\n",
      "$ wages   \u001b[3m\u001b[90m<dbl>\u001b[39m\u001b[23m 62000, 42000, 16000, 91000, 41000, 17000, 62000, 60000, 140...\n",
      "$ ageimm  \u001b[3m\u001b[90m<fct>\u001b[39m\u001b[23m 6, 4, 8, 6, 7, 6, 5, 8, 4, 6, 10, 3, 5, 6, 6, 7, 8, 6, 5, 8...\n",
      "$ agegrp  \u001b[3m\u001b[90m<fct>\u001b[39m\u001b[23m 10, 15, 14, 12, 12, 10, 15, 13, 10, 15, 16, 11, 13, 10, 12,...\n",
      "$ gender  \u001b[3m\u001b[90m<fct>\u001b[39m\u001b[23m 1, 1, 1, 1, 2, 1, 2, 2, 2, 2, 2, 1, 1, 2, 2, 2, 2, 1, 2, 2,...\n",
      "$ pob     \u001b[3m\u001b[90m<fct>\u001b[39m\u001b[23m 28, 24, 25, 12, 6, 19, 20, 25, 6, 11, 23, 29, 12, 6, 31, 25...\n",
      "$ vismin  \u001b[3m\u001b[90m<fct>\u001b[39m\u001b[23m 2, 3, 5, 1, 7, 9, 9, 5, 7, 1, 10, 2, 1, 1, 2, 5, 6, 1, 2, 9...\n",
      "$ kol     \u001b[3m\u001b[90m<fct>\u001b[39m\u001b[23m 1, 1, 1, 2, 2, 1, 1, 1, 3, 1, 1, 1, 1, 1, 1, 1, 2, 3, 1, 1,...\n",
      "$ hdgree  \u001b[3m\u001b[90m<fct>\u001b[39m\u001b[23m 12, 9, 8, 9, 3, 6, 7, 9, 7, 3, 9, 9, 6, 9, 12, 5, 12, 9, 9,...\n",
      "$ locstud \u001b[3m\u001b[90m<fct>\u001b[39m\u001b[23m 14, 10, 16, 14, 5, 6, 17, 16, 5, 14, 15, 6, 6, 13, 12, 16, ...\n",
      "$ pwpr    \u001b[3m\u001b[90m<fct>\u001b[39m\u001b[23m 35, 59, 24, 24, 24, 35, 35, 47, 59, 35, 35, 48, 35, 35, 35,...\n",
      "$ kid_dum \u001b[3m\u001b[90m<fct>\u001b[39m\u001b[23m 1, 1, 1, 1, 1, 1, 1, 1, 0, 1, 1, 0, 1, 1, 1, 1, 1, 1, 1, 0,...\n",
      "$ logwage \u001b[3m\u001b[90m<dbl>\u001b[39m\u001b[23m 11.034890, 10.645425, 9.680344, 11.418615, 10.621327, 9.740...\n",
      "$ vm_dum  \u001b[3m\u001b[90m<fct>\u001b[39m\u001b[23m 1, 1, 1, 0, 1, 1, 1, 1, 1, 0, 1, 1, 0, 0, 1, 1, 1, 0, 1, 1,...\n",
      "$ gen_dum \u001b[3m\u001b[90m<fct>\u001b[39m\u001b[23m 1, 1, 1, 1, 0, 1, 0, 0, 0, 0, 0, 1, 1, 0, 0, 0, 0, 1, 0, 0,...\n"
     ]
    }
   ],
   "source": [
    "glimpse(data)"
   ]
  },
  {
   "cell_type": "markdown",
   "id": "ea2c0b06-5b6e-467c-8366-dc4cff4f60c8",
   "metadata": {},
   "source": [
    "## Summary Statistics"
   ]
  },
  {
   "cell_type": "markdown",
   "id": "77c15732-db6c-4221-9a1b-03ae6b7af458",
   "metadata": {},
   "source": [
    "### Summary statistics of outcome variables (both before and after transformation), key explanatory variable, and covariates of interest"
   ]
  },
  {
   "cell_type": "code",
   "execution_count": 11,
   "id": "f08099f0-2fb6-48a4-acf8-5717e75dd6ab",
   "metadata": {},
   "outputs": [
    {
     "data": {
      "text/plain": [
       "   Min. 1st Qu.  Median    Mean 3rd Qu.    Max. \n",
       "      1   32000   56000   69609   89000  967998 "
      ]
     },
     "metadata": {},
     "output_type": "display_data"
    },
    {
     "data": {
      "text/plain": [
       "   Min. 1st Qu.  Median    Mean 3rd Qu.    Max. \n",
       "   0.00   10.37   10.93   10.73   11.40   13.78 "
      ]
     },
     "metadata": {},
     "output_type": "display_data"
    }
   ],
   "source": [
    "summary(data$wages)\n",
    "summary(data$logwage)"
   ]
  },
  {
   "cell_type": "code",
   "execution_count": 12,
   "id": "a21ec0aa-a504-4242-958c-e95714d44d71",
   "metadata": {},
   "outputs": [
    {
     "data": {
      "text/html": [
       "<dl class=dl-horizontal>\n",
       "\t<dt>1</dt>\n",
       "\t\t<dd>3256</dd>\n",
       "\t<dt>2</dt>\n",
       "\t\t<dd>3825</dd>\n",
       "\t<dt>3</dt>\n",
       "\t\t<dd>4025</dd>\n",
       "\t<dt>4</dt>\n",
       "\t\t<dd>3675</dd>\n",
       "\t<dt>5</dt>\n",
       "\t\t<dd>4781</dd>\n",
       "\t<dt>6</dt>\n",
       "\t\t<dd>10694</dd>\n",
       "\t<dt>7</dt>\n",
       "\t\t<dd>10364</dd>\n",
       "\t<dt>8</dt>\n",
       "\t\t<dd>6757</dd>\n",
       "\t<dt>9</dt>\n",
       "\t\t<dd>3377</dd>\n",
       "\t<dt>10</dt>\n",
       "\t\t<dd>1527</dd>\n",
       "\t<dt>11</dt>\n",
       "\t\t<dd>483</dd>\n",
       "\t<dt>12</dt>\n",
       "\t\t<dd>161</dd>\n",
       "\t<dt>13</dt>\n",
       "\t\t<dd>59</dd>\n",
       "\t<dt>88</dt>\n",
       "\t\t<dd>0</dd>\n",
       "\t<dt>99</dt>\n",
       "\t\t<dd>0</dd>\n",
       "</dl>\n"
      ],
      "text/latex": [
       "\\begin{description*}\n",
       "\\item[1] 3256\n",
       "\\item[2] 3825\n",
       "\\item[3] 4025\n",
       "\\item[4] 3675\n",
       "\\item[5] 4781\n",
       "\\item[6] 10694\n",
       "\\item[7] 10364\n",
       "\\item[8] 6757\n",
       "\\item[9] 3377\n",
       "\\item[10] 1527\n",
       "\\item[11] 483\n",
       "\\item[12] 161\n",
       "\\item[13] 59\n",
       "\\item[88] 0\n",
       "\\item[99] 0\n",
       "\\end{description*}\n"
      ],
      "text/markdown": [
       "1\n",
       ":   32562\n",
       ":   38253\n",
       ":   40254\n",
       ":   36755\n",
       ":   47816\n",
       ":   106947\n",
       ":   103648\n",
       ":   67579\n",
       ":   337710\n",
       ":   152711\n",
       ":   48312\n",
       ":   16113\n",
       ":   5988\n",
       ":   099\n",
       ":   0\n",
       "\n"
      ],
      "text/plain": [
       "    1     2     3     4     5     6     7     8     9    10    11    12    13 \n",
       " 3256  3825  4025  3675  4781 10694 10364  6757  3377  1527   483   161    59 \n",
       "   88    99 \n",
       "    0     0 "
      ]
     },
     "metadata": {},
     "output_type": "display_data"
    }
   ],
   "source": [
    "summary(data$ageimm)"
   ]
  },
  {
   "cell_type": "code",
   "execution_count": 13,
   "id": "a08baeff-59cf-48ff-9a36-14f3e5692482",
   "metadata": {},
   "outputs": [
    {
     "data": {
      "text/html": [
       "<dl class=dl-horizontal>\n",
       "\t<dt>0</dt>\n",
       "\t\t<dd>12794</dd>\n",
       "\t<dt>1</dt>\n",
       "\t\t<dd>40190</dd>\n",
       "\t<dt>8</dt>\n",
       "\t\t<dd>0</dd>\n",
       "\t<dt>9</dt>\n",
       "\t\t<dd>0</dd>\n",
       "</dl>\n"
      ],
      "text/latex": [
       "\\begin{description*}\n",
       "\\item[0] 12794\n",
       "\\item[1] 40190\n",
       "\\item[8] 0\n",
       "\\item[9] 0\n",
       "\\end{description*}\n"
      ],
      "text/markdown": [
       "0\n",
       ":   127941\n",
       ":   401908\n",
       ":   09\n",
       ":   0\n",
       "\n"
      ],
      "text/plain": [
       "    0     1     8     9 \n",
       "12794 40190     0     0 "
      ]
     },
     "metadata": {},
     "output_type": "display_data"
    }
   ],
   "source": [
    "summary(data$kid_dum)"
   ]
  },
  {
   "cell_type": "code",
   "execution_count": 14,
   "id": "478f8ba1-714d-4045-9943-eabe886fb7d2",
   "metadata": {},
   "outputs": [
    {
     "data": {
      "text/html": [
       "<dl class=dl-horizontal>\n",
       "\t<dt>0</dt>\n",
       "\t\t<dd>25824</dd>\n",
       "\t<dt>1</dt>\n",
       "\t\t<dd>27160</dd>\n",
       "</dl>\n"
      ],
      "text/latex": [
       "\\begin{description*}\n",
       "\\item[0] 25824\n",
       "\\item[1] 27160\n",
       "\\end{description*}\n"
      ],
      "text/markdown": [
       "0\n",
       ":   258241\n",
       ":   27160\n",
       "\n"
      ],
      "text/plain": [
       "    0     1 \n",
       "25824 27160 "
      ]
     },
     "metadata": {},
     "output_type": "display_data"
    }
   ],
   "source": [
    "summary(data$gen_dum)"
   ]
  },
  {
   "cell_type": "code",
   "execution_count": 15,
   "id": "47abe02f-e48b-4160-b3da-57fac950b3c8",
   "metadata": {},
   "outputs": [
    {
     "data": {
      "text/html": [
       "<dl class=dl-horizontal>\n",
       "\t<dt>0</dt>\n",
       "\t\t<dd>13588</dd>\n",
       "\t<dt>1</dt>\n",
       "\t\t<dd>39396</dd>\n",
       "</dl>\n"
      ],
      "text/latex": [
       "\\begin{description*}\n",
       "\\item[0] 13588\n",
       "\\item[1] 39396\n",
       "\\end{description*}\n"
      ],
      "text/markdown": [
       "0\n",
       ":   135881\n",
       ":   39396\n",
       "\n"
      ],
      "text/plain": [
       "    0     1 \n",
       "13588 39396 "
      ]
     },
     "metadata": {},
     "output_type": "display_data"
    }
   ],
   "source": [
    "summary(data$vm_dum)"
   ]
  },
  {
   "cell_type": "markdown",
   "id": "d0516d56-a8d4-4422-a303-68e9ce8c8ae3",
   "metadata": {},
   "source": [
    "## Distribution Plot"
   ]
  },
  {
   "cell_type": "markdown",
   "id": "dc11ed20-c3c7-4170-a8fe-e779a4fbf38c",
   "metadata": {},
   "source": [
    "### Visualize the distribution of the key outcome and explanatory variables"
   ]
  },
  {
   "cell_type": "code",
   "execution_count": 16,
   "id": "95446c56-5194-410c-b009-f4600addd73d",
   "metadata": {},
   "outputs": [
    {
     "data": {
      "image/png": "[encoded data removed]",
      "text/plain": [
       "plot without title"
      ]
     },
     "metadata": {
      "image/png": {
       "height": 420,
       "width": 420
      }
     },
     "output_type": "display_data"
    }
   ],
   "source": [
    "ggplot(data, aes(x = logwage)) +\n",
    "  geom_histogram(bins = 50)"
   ]
  },
  {
   "cell_type": "code",
   "execution_count": 17,
   "id": "bfa50488-54be-4eae-a1a5-00a3b2bb0092",
   "metadata": {},
   "outputs": [
    {
     "data": {
      "image/png": "[encoded data removed]",
      "text/plain": [
       "plot without title"
      ]
     },
     "metadata": {
      "image/png": {
       "height": 420,
       "width": 420
      }
     },
     "output_type": "display_data"
    }
   ],
   "source": [
    "ggplot(data, aes(x = ageimm)) +\n",
    "  geom_bar()"
   ]
  },
  {
   "cell_type": "markdown",
   "id": "1ed399d7-d3d5-47c3-92b7-ae9f56971186",
   "metadata": {},
   "source": [
    "## Specifications "
   ]
  },
  {
   "cell_type": "code",
   "execution_count": 18,
   "id": "7a4d9aa4-a603-48e8-bba4-b09b0a5b05b0",
   "metadata": {},
   "outputs": [],
   "source": [
    "#regression with no controls\n",
    "s1<-lm(data = data, logwage ~ageimm)"
   ]
  },
  {
   "cell_type": "code",
   "execution_count": 19,
   "id": "e332dd3f-744f-4517-913c-de93455b0b0c",
   "metadata": {},
   "outputs": [],
   "source": [
    "# regression with dummies of interest\n",
    "s2<-lm(data = data, logwage ~ageimm+gen_dum+vm_dum+kid_dum)"
   ]
  },
  {
   "cell_type": "code",
   "execution_count": 20,
   "id": "d3bc9941-b9e9-41a1-b526-113e427ddaba",
   "metadata": {},
   "outputs": [],
   "source": [
    "# regression with additional demographic controls\n",
    "s3<-lm(data = data, logwage ~ageimm+gen_dum+vm_dum+kid_dum+agegrp+pob+kol)"
   ]
  },
  {
   "cell_type": "code",
   "execution_count": 21,
   "id": "cab172e8-e8e4-40ed-a21c-19244b1a58dc",
   "metadata": {},
   "outputs": [],
   "source": [
    "#regression with additional education, school and work controls\n",
    "s4<-lm(data = data, logwage ~ageimm+gen_dum+vm_dum+kid_dum+agegrp+pob+kol+hdgree+locstud+pwpr)"
   ]
  },
  {
   "cell_type": "code",
   "execution_count": 22,
   "id": "394d1c8d-2c87-4c31-9e06-ceb64623c1fe",
   "metadata": {},
   "outputs": [
    {
     "name": "stdout",
     "output_type": "stream",
     "text": [
      "\n",
      "Regression Results\n",
      "=================================================================================================================================\n",
      "                                                                 Dependent variable:                                             \n",
      "                    -------------------------------------------------------------------------------------------------------------\n",
      "                                                                       logwage                                                   \n",
      "                               (1)                         (2)                        (3)                         (4)            \n",
      "---------------------------------------------------------------------------------------------------------------------------------\n",
      "ageimm2                      -0.056*                     -0.030                      0.016                       0.015           \n",
      "                             (0.029)                     (0.028)                    (0.027)                     (0.027)          \n",
      "                                                                                                                                 \n",
      "ageimm3                      -0.071**                    -0.031                      -0.003                      0.006           \n",
      "                             (0.028)                     (0.028)                    (0.027)                     (0.027)          \n",
      "                                                                                                                                 \n",
      "ageimm4                     -0.099***                    -0.043                     -0.068**                    -0.030           \n",
      "                             (0.029)                     (0.028)                    (0.028)                     (0.028)          \n",
      "                                                                                                                                 \n",
      "ageimm5                     -0.173***                   -0.097***                  -0.184***                   -0.081***         \n",
      "                             (0.027)                     (0.027)                    (0.027)                     (0.027)          \n",
      "                                                                                                                                 \n",
      "ageimm6                     -0.083***                    -0.027                    -0.158***                   -0.092***         \n",
      "                             (0.024)                     (0.024)                    (0.024)                     (0.025)          \n",
      "                                                                                                                                 \n",
      "ageimm7                     -0.076***                    -0.044*                   -0.240***                   -0.176***         \n",
      "                             (0.024)                     (0.024)                    (0.024)                     (0.026)          \n",
      "                                                                                                                                 \n",
      "ageimm8                     -0.097***                   -0.080***                  -0.328***                   -0.250***         \n",
      "                             (0.026)                     (0.025)                    (0.026)                     (0.028)          \n",
      "                                                                                                                                 \n",
      "ageimm9                     -0.200***                   -0.185***                  -0.456***                   -0.369***         \n",
      "                             (0.029)                     (0.029)                    (0.030)                     (0.031)          \n",
      "                                                                                                                                 \n",
      "ageimm10                    -0.258***                   -0.247***                  -0.486***                   -0.398***         \n",
      "                             (0.037)                     (0.037)                    (0.037)                     (0.039)          \n",
      "                                                                                                                                 \n",
      "ageimm11                    -0.362***                   -0.380***                  -0.552***                   -0.468***         \n",
      "                             (0.059)                     (0.058)                    (0.057)                     (0.058)          \n",
      "                                                                                                                                 \n",
      "ageimm12                    -0.349***                   -0.365***                  -0.456***                   -0.361***         \n",
      "                             (0.097)                     (0.095)                    (0.094)                     (0.093)          \n",
      "                                                                                                                                 \n",
      "ageimm13                    -1.011***                   -1.120***                  -0.961***                   -0.834***         \n",
      "                             (0.158)                     (0.155)                    (0.152)                     (0.150)          \n",
      "                                                                                                                                 \n",
      "Constant                    10.834***                   11.187***                   9.348***                   9.415***          \n",
      "                             (0.021)                     (0.024)                    (0.764)                     (0.786)          \n",
      "                                                                                                                                 \n",
      "---------------------------------------------------------------------------------------------------------------------------------\n",
      "Observations                  52,984                     52,984                      52,984                     52,984           \n",
      "R2                            0.003                       0.041                      0.104                       0.134           \n",
      "Adjusted R2                   0.003                       0.040                      0.103                       0.133           \n",
      "Residual Std. Error     1.201 (df = 52971)         1.178 (df = 52968)          1.139 (df = 52919)         1.120 (df = 52883)     \n",
      "F Statistic         13.947*** (df = 12; 52971) 149.695*** (df = 15; 52968) 96.323*** (df = 64; 52919) 82.030*** (df = 100; 52883)\n",
      "=================================================================================================================================\n",
      "Note:                                                                                                 *p<0.1; **p<0.05; ***p<0.01\n"
     ]
    }
   ],
   "source": [
    "stargazer(s1,s2,s3,s4, omit = c(\"gen_dum\",\"vm_dum\",\"kid_dum\",\"agegrp\",\"pob\",\"kol\",\"hdgree\", \"locstud\",\"pwpr\"),title = \"Regression Results\", align = TRUE, type=\"text\")"
   ]
  },
  {
   "cell_type": "markdown",
   "id": "eb4718d0-4cce-4076-8b7e-daa1daf142b7",
   "metadata": {},
   "source": [
    "#### This is the code that I used to export my regression table\n",
    "stargazer(s1,s2,s3,s4, omit = c(\"gen_dum\",\"vm_dum\",\"kid_dum\",\"agegrp\",\"pob\",\"kol\",\"hdgree\", \"locstud\",\"pwpr\"),title = \"Regression Results\", align = TRUE, type=\"html\",out = \"regression_table.html\")"
   ]
  },
  {
   "cell_type": "markdown",
   "id": "5d7cca1e-3c19-42e7-b0d6-8d649ae267a6",
   "metadata": {},
   "source": [
    "## Heterogeneity Test"
   ]
  },
  {
   "cell_type": "markdown",
   "id": "ad5f7e20-c676-4e64-9c32-8c4bf3ff6935",
   "metadata": {},
   "source": [
    "### To further evaluate the effect of age of immigration on wages, I will perform this test by dividing my samples into subgroups based on vm_dum(dummy for visible minority) "
   ]
  },
  {
   "cell_type": "code",
   "execution_count": 23,
   "id": "7d630eca-ef35-48fe-b05e-a2b1cbcb3e8e",
   "metadata": {},
   "outputs": [
    {
     "name": "stdout",
     "output_type": "stream",
     "text": [
      "\n",
      "Results based on Visible Minority Status\n",
      "=========================================================================\n",
      "                                     Dependent variable:                 \n",
      "                    -----------------------------------------------------\n",
      "                                           logwage                       \n",
      "                               (1)                        (2)            \n",
      "-------------------------------------------------------------------------\n",
      "ageimm2                       -0.021                     0.032           \n",
      "                             (0.034)                    (0.045)          \n",
      "                                                                         \n",
      "ageimm3                       -0.049                     0.049           \n",
      "                             (0.033)                    (0.048)          \n",
      "                                                                         \n",
      "ageimm4                     -0.118***                   0.122**          \n",
      "                             (0.034)                    (0.054)          \n",
      "                                                                         \n",
      "ageimm5                     -0.159***                    -0.010          \n",
      "                             (0.033)                    (0.049)          \n",
      "                                                                         \n",
      "ageimm6                     -0.184***                    0.001           \n",
      "                             (0.031)                    (0.045)          \n",
      "                                                                         \n",
      "ageimm7                     -0.274***                    -0.070          \n",
      "                             (0.033)                    (0.046)          \n",
      "                                                                         \n",
      "ageimm8                     -0.369***                   -0.096*          \n",
      "                             (0.035)                    (0.051)          \n",
      "                                                                         \n",
      "ageimm9                     -0.518***                   -0.131**         \n",
      "                             (0.039)                    (0.059)          \n",
      "                                                                         \n",
      "ageimm10                    -0.553***                  -0.212***         \n",
      "                             (0.046)                    (0.077)          \n",
      "                                                                         \n",
      "ageimm11                    -0.675***                    -0.112          \n",
      "                             (0.066)                    (0.124)          \n",
      "                                                                         \n",
      "ageimm12                    -0.593***                    -0.079          \n",
      "                             (0.108)                    (0.184)          \n",
      "                                                                         \n",
      "ageimm13                    -1.300***                    0.053           \n",
      "                             (0.169)                    (0.335)          \n",
      "                                                                         \n",
      "Constant                     9.144***                   9.355***         \n",
      "                             (1.266)                    (0.792)          \n",
      "                                                                         \n",
      "-------------------------------------------------------------------------\n",
      "Observations                  39,396                     13,588          \n",
      "R2                            0.136                      0.133           \n",
      "Adjusted R2                   0.134                      0.127           \n",
      "Residual Std. Error     1.102 (df = 39296)         1.159 (df = 13490)    \n",
      "F Statistic         62.436*** (df = 99; 39296) 21.304*** (df = 97; 13490)\n",
      "=========================================================================\n",
      "Note:                                         *p<0.1; **p<0.05; ***p<0.01\n"
     ]
    }
   ],
   "source": [
    "#based on whether the person is visible minority\n",
    "sa<-lm(data=filter(data,vm_dum==\"1\"), logwage ~ageimm+gen_dum+kid_dum+agegrp+pob+kol+hdgree+locstud+pwpr)\n",
    "sb<-lm(data=filter(data,vm_dum==\"0\"), logwage ~ageimm+gen_dum+kid_dum+agegrp+pob+kol+hdgree+locstud+pwpr)\n",
    "stargazer(sa,sb, omit = c(\"gen_dum\",\"kid_dum\",\"agegrp\",\"pob\",\"kol\",\"hdgree\", \"locstud\",\"pwpr\"),title = \"Results based on Visible Minority Status\", align = TRUE, type=\"text\")"
   ]
  }
 ],
 "metadata": {
  "kernelspec": {
   "display_name": "R",
   "language": "R",
   "name": "ir"
  },
  "language_info": {
   "codemirror_mode": "r",
   "file_extension": ".r",
   "mimetype": "text/x-r-source",
   "name": "R",
   "pygments_lexer": "r",
   "version": "3.6.1"
  }
 },
 "nbformat": 4,
 "nbformat_minor": 5
}
